{
  "nbformat": 4,
  "nbformat_minor": 0,
  "metadata": {
    "colab": {
      "provenance": []
    },
    "kernelspec": {
      "name": "python3",
      "display_name": "Python 3"
    },
    "language_info": {
      "name": "python"
    }
  },
  "cells": [
    {
      "cell_type": "markdown",
      "source": [
        "##BUBBLE_SORTING ALGORITHM"
      ],
      "metadata": {
        "id": "_nscIted6ojn"
      }
    },
    {
      "cell_type": "code",
      "source": [
        "l=[2,12,1,7,3,17,15,100]"
      ],
      "metadata": {
        "id": "YZVa48wo6nn8"
      },
      "execution_count": 73,
      "outputs": []
    },
    {
      "cell_type": "code",
      "source": [
        "def bubble_sort(arr):\n",
        "  n=len(arr)\n",
        "  for i in range(n):#8 (0-7)\n",
        "    for j in range (0,n-i-1):#(0-6)\n",
        "      if arr[j]>arr[j+1]:\n",
        "        arr[j],arr[j+1]=arr[j+1],arr[j]\n",
        "  return arr\n"
      ],
      "metadata": {
        "id": "42DQ2xWX6_fF"
      },
      "execution_count": 74,
      "outputs": []
    },
    {
      "cell_type": "code",
      "source": [
        "bubble_sort(l)"
      ],
      "metadata": {
        "colab": {
          "base_uri": "https://localhost:8080/"
        },
        "id": "1StYEJjv8MLa",
        "outputId": "2146b821-cfc9-4ed6-e7c4-352549dd34e9"
      },
      "execution_count": 75,
      "outputs": [
        {
          "output_type": "execute_result",
          "data": {
            "text/plain": [
              "[1, 2, 3, 7, 12, 15, 17, 100]"
            ]
          },
          "metadata": {},
          "execution_count": 75
        }
      ]
    },
    {
      "cell_type": "code",
      "source": [],
      "metadata": {
        "id": "jRvbLPyK8O0W"
      },
      "execution_count": null,
      "outputs": []
    }
  ]
}